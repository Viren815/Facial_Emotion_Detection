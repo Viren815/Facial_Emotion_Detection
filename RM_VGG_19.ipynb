{
  "nbformat": 4,
  "nbformat_minor": 0,
  "metadata": {
    "colab": {
      "name": "RM-VGG-19.ipynb",
      "provenance": []
    },
    "kernelspec": {
      "name": "python3",
      "display_name": "Python 3"
    },
    "language_info": {
      "name": "python"
    }
  },
  "cells": [
    {
      "cell_type": "markdown",
      "metadata": {
        "id": "jAEjny-zrrBh"
      },
      "source": [
        "##Mounting Google Drive"
      ]
    },
    {
      "cell_type": "code",
      "metadata": {
        "colab": {
          "base_uri": "https://localhost:8080/"
        },
        "id": "wEK0NIjVXujV",
        "outputId": "bbe73aea-ee0f-4192-ae8b-5195497f19cb"
      },
      "source": [
        "from google.colab import drive\n",
        "drive.mount('/content/drive/')"
      ],
      "execution_count": 1,
      "outputs": [
        {
          "output_type": "stream",
          "text": [
            "Mounted at /content/drive/\n"
          ],
          "name": "stdout"
        }
      ]
    },
    {
      "cell_type": "markdown",
      "metadata": {
        "id": "2KDiSM8qtalh"
      },
      "source": [
        "##Importing Libraries"
      ]
    },
    {
      "cell_type": "code",
      "metadata": {
        "id": "bkYTIM6qnmwo"
      },
      "source": [
        "import numpy as np\n",
        "import cv2\n",
        "import keras\n",
        "from keras.callbacks import ModelCheckpoint,EarlyStopping\n",
        "from keras.layers import Conv2D, Flatten, MaxPooling2D,Dense,Dropout,SpatialDropout2D\n",
        "from keras.models  import Sequential\n",
        "from keras.preprocessing.image import ImageDataGenerator, img_to_array, load_img, array_to_img\n",
        "import random,os,glob\n",
        "import matplotlib.pyplot as plt\n",
        "import tensorflow as tf\n",
        "import numpy as np\n",
        "import pandas as pd\n",
        "from keras.preprocessing.image import ImageDataGenerator\n",
        "from keras.optimizers import SGD\n",
        "from keras.models import Sequential,Model\n",
        "from keras.layers import Activation,Dense,Flatten,Dropout,MaxPooling2D,GlobalAveragePooling2D,BatchNormalization\n",
        "import shutil as sh\n",
        "import os\n",
        "from keras.applications.xception import Xception\n",
        "from PIL import Image\n",
        "from keras.preprocessing import image\n",
        "import tensorflow_datasets as tfds"
      ],
      "execution_count": 2,
      "outputs": []
    },
    {
      "cell_type": "markdown",
      "metadata": {
        "id": "x2Qg4Rcmc5oL"
      },
      "source": [
        "##Importing dataset "
      ]
    },
    {
      "cell_type": "code",
      "metadata": {
        "colab": {
          "base_uri": "https://localhost:8080/",
          "height": 359
        },
        "id": "S7UiuRWpobtF",
        "outputId": "a2a03fd1-e166-4a8c-a860-a784f66eb63f"
      },
      "source": [
        "filname = '/content/drive/MyDrive/Research Methodology/fer2013.csv'\n",
        "names=['emotion','pixels','usage']\n",
        "df=pd.read_csv('/content/drive/MyDrive/Research Methodology/fer2013.csv',names=names, na_filter=False)\n",
        "im=df['pixels']\n",
        "df.head(10)"
      ],
      "execution_count": 3,
      "outputs": [
        {
          "output_type": "execute_result",
          "data": {
            "text/html": [
              "<div>\n",
              "<style scoped>\n",
              "    .dataframe tbody tr th:only-of-type {\n",
              "        vertical-align: middle;\n",
              "    }\n",
              "\n",
              "    .dataframe tbody tr th {\n",
              "        vertical-align: top;\n",
              "    }\n",
              "\n",
              "    .dataframe thead th {\n",
              "        text-align: right;\n",
              "    }\n",
              "</style>\n",
              "<table border=\"1\" class=\"dataframe\">\n",
              "  <thead>\n",
              "    <tr style=\"text-align: right;\">\n",
              "      <th></th>\n",
              "      <th>emotion</th>\n",
              "      <th>pixels</th>\n",
              "      <th>usage</th>\n",
              "    </tr>\n",
              "  </thead>\n",
              "  <tbody>\n",
              "    <tr>\n",
              "      <th>0</th>\n",
              "      <td>emotion</td>\n",
              "      <td>pixels</td>\n",
              "      <td>Usage</td>\n",
              "    </tr>\n",
              "    <tr>\n",
              "      <th>1</th>\n",
              "      <td>0</td>\n",
              "      <td>70 80 82 72 58 58 60 63 54 58 60 48 89 115 121...</td>\n",
              "      <td>Training</td>\n",
              "    </tr>\n",
              "    <tr>\n",
              "      <th>2</th>\n",
              "      <td>0</td>\n",
              "      <td>151 150 147 155 148 133 111 140 170 174 182 15...</td>\n",
              "      <td>Training</td>\n",
              "    </tr>\n",
              "    <tr>\n",
              "      <th>3</th>\n",
              "      <td>2</td>\n",
              "      <td>231 212 156 164 174 138 161 173 182 200 106 38...</td>\n",
              "      <td>Training</td>\n",
              "    </tr>\n",
              "    <tr>\n",
              "      <th>4</th>\n",
              "      <td>4</td>\n",
              "      <td>24 32 36 30 32 23 19 20 30 41 21 22 32 34 21 1...</td>\n",
              "      <td>Training</td>\n",
              "    </tr>\n",
              "    <tr>\n",
              "      <th>5</th>\n",
              "      <td>6</td>\n",
              "      <td>4 0 0 0 0 0 0 0 0 0 0 0 3 15 23 28 48 50 58 84...</td>\n",
              "      <td>Training</td>\n",
              "    </tr>\n",
              "    <tr>\n",
              "      <th>6</th>\n",
              "      <td>2</td>\n",
              "      <td>55 55 55 55 55 54 60 68 54 85 151 163 170 179 ...</td>\n",
              "      <td>Training</td>\n",
              "    </tr>\n",
              "    <tr>\n",
              "      <th>7</th>\n",
              "      <td>4</td>\n",
              "      <td>20 17 19 21 25 38 42 42 46 54 56 62 63 66 82 1...</td>\n",
              "      <td>Training</td>\n",
              "    </tr>\n",
              "    <tr>\n",
              "      <th>8</th>\n",
              "      <td>3</td>\n",
              "      <td>77 78 79 79 78 75 60 55 47 48 58 73 77 79 57 5...</td>\n",
              "      <td>Training</td>\n",
              "    </tr>\n",
              "    <tr>\n",
              "      <th>9</th>\n",
              "      <td>3</td>\n",
              "      <td>85 84 90 121 101 102 133 153 153 169 177 189 1...</td>\n",
              "      <td>Training</td>\n",
              "    </tr>\n",
              "  </tbody>\n",
              "</table>\n",
              "</div>"
            ],
            "text/plain": [
              "   emotion                                             pixels     usage\n",
              "0  emotion                                             pixels     Usage\n",
              "1        0  70 80 82 72 58 58 60 63 54 58 60 48 89 115 121...  Training\n",
              "2        0  151 150 147 155 148 133 111 140 170 174 182 15...  Training\n",
              "3        2  231 212 156 164 174 138 161 173 182 200 106 38...  Training\n",
              "4        4  24 32 36 30 32 23 19 20 30 41 21 22 32 34 21 1...  Training\n",
              "5        6  4 0 0 0 0 0 0 0 0 0 0 0 3 15 23 28 48 50 58 84...  Training\n",
              "6        2  55 55 55 55 55 54 60 68 54 85 151 163 170 179 ...  Training\n",
              "7        4  20 17 19 21 25 38 42 42 46 54 56 62 63 66 82 1...  Training\n",
              "8        3  77 78 79 79 78 75 60 55 47 48 58 73 77 79 57 5...  Training\n",
              "9        3  85 84 90 121 101 102 133 153 153 169 177 189 1...  Training"
            ]
          },
          "metadata": {
            "tags": []
          },
          "execution_count": 3
        }
      ]
    },
    {
      "cell_type": "markdown",
      "metadata": {
        "id": "DGg29lj4c-RX"
      },
      "source": [
        "##Dividing Data into X and Y "
      ]
    },
    {
      "cell_type": "code",
      "metadata": {
        "id": "7uLBc8Icoejm"
      },
      "source": [
        "def train_test(filname):\n",
        "    Y = []\n",
        "    X = []\n",
        "    data = True\n",
        "    for row in open(filname):\n",
        "        if data:\n",
        "            data = False\n",
        "        else:\n",
        "            train = row.split(',')\n",
        "            Y.append(int(train[0]))\n",
        "            X.append([int(p) for p in train[1].split()])\n",
        "\n",
        "    X = np.array(X) / 255.0 \n",
        "    Y = np.array(Y)\n",
        "    return X, Y\n",
        "    "
      ],
      "execution_count": 4,
      "outputs": []
    },
    {
      "cell_type": "code",
      "metadata": {
        "colab": {
          "base_uri": "https://localhost:8080/"
        },
        "id": "HWOIVbGfohcA",
        "outputId": "978b1c71-99c5-44ef-e4e5-6d146485ceba"
      },
      "source": [
        "X, Y = train_test(filname)\n",
        "num_class = len(set(Y))\n",
        "print(num_class)"
      ],
      "execution_count": 5,
      "outputs": [
        {
          "output_type": "stream",
          "text": [
            "7\n"
          ],
          "name": "stdout"
        }
      ]
    },
    {
      "cell_type": "markdown",
      "metadata": {
        "id": "OEJR6rqkeITU"
      },
      "source": [
        "##Dividing Data into Train and Test "
      ]
    },
    {
      "cell_type": "code",
      "metadata": {
        "id": "vhFPB9ULwVHs"
      },
      "source": [
        "from sklearn.model_selection import train_test_split\n",
        "X_train, X_test, y_train, y_test = train_test_split(X, Y, test_size=0.2, random_state=0)"
      ],
      "execution_count": 6,
      "outputs": []
    },
    {
      "cell_type": "markdown",
      "metadata": {
        "id": "gl20E-syeUF9"
      },
      "source": [
        "##Preprocessing Steps"
      ]
    },
    {
      "cell_type": "code",
      "metadata": {
        "id": "qfa2j3WsHJOp"
      },
      "source": [
        "X_train = X_train.astype('float32') / 255.\n",
        "X_test = X_test.astype('float32') / 255.\n",
        "X_train = np.reshape(X_train, (len(X_train), 48, 48, 1))\n",
        "X_test = np.reshape(X_test, (len(X_test), 48, 48, 1))"
      ],
      "execution_count": 7,
      "outputs": []
    },
    {
      "cell_type": "code",
      "metadata": {
        "colab": {
          "base_uri": "https://localhost:8080/"
        },
        "id": "zzNkgCtHVgT9",
        "outputId": "ea94dbc2-9abc-4583-a828-9d84cd466007"
      },
      "source": [
        "train_images = tf.image.grayscale_to_rgb(\n",
        "    (tf.convert_to_tensor(X_train, name=None))\n",
        "    # name=None\n",
        ")\n",
        "# train_images = train_images / 255\n",
        "print(train_images.shape)"
      ],
      "execution_count": 8,
      "outputs": [
        {
          "output_type": "stream",
          "text": [
            "(28709, 48, 48, 3)\n"
          ],
          "name": "stdout"
        }
      ]
    },
    {
      "cell_type": "code",
      "metadata": {
        "id": "TYpHDtJUJ-nw"
      },
      "source": [
        "train_images = tf.image.resize(train_images, [128,128])"
      ],
      "execution_count": 9,
      "outputs": []
    },
    {
      "cell_type": "code",
      "metadata": {
        "colab": {
          "base_uri": "https://localhost:8080/"
        },
        "id": "OjlPPC5CKRQk",
        "outputId": "f2f6ddd0-d5e9-4bc2-f74e-b0a7ddc4438f"
      },
      "source": [
        "test_images = tf.image.grayscale_to_rgb(\n",
        "    (tf.convert_to_tensor(X_test, name=None))\n",
        "    # name=None\n",
        ")\n",
        "print(test_images.shape)"
      ],
      "execution_count": 10,
      "outputs": [
        {
          "output_type": "stream",
          "text": [
            "(7178, 48, 48, 3)\n"
          ],
          "name": "stdout"
        }
      ]
    },
    {
      "cell_type": "code",
      "metadata": {
        "id": "riZVBjIiKedm"
      },
      "source": [
        "test_images = tf.image.resize(test_images, [128,128])"
      ],
      "execution_count": 11,
      "outputs": []
    },
    {
      "cell_type": "code",
      "metadata": {
        "id": "QrD_VPWOVpbk"
      },
      "source": [
        "y_train = (np.arange(num_class) == y_train[:, None]).astype(np.float32)\n",
        "y_test = (np.arange(num_class) == y_test[:, None]).astype(np.float32)"
      ],
      "execution_count": 12,
      "outputs": []
    },
    {
      "cell_type": "markdown",
      "metadata": {
        "id": "mUdjRF4Vffgp"
      },
      "source": [
        "##Loading the Pretrained Model Vgg-19 with Transfer learning ImageNet"
      ]
    },
    {
      "cell_type": "code",
      "metadata": {
        "colab": {
          "base_uri": "https://localhost:8080/"
        },
        "id": "xiTZWjQLzBkY",
        "outputId": "d930b922-1ef3-43a8-9afb-9ebf4a69e4ba"
      },
      "source": [
        "model = Sequential()\n",
        "vgg19model = tf.keras.applications.VGG19(include_top=False, weights='imagenet', input_shape=(128, 128, 3))\n",
        "model.add(vgg19model)\n",
        "model.add(Flatten())\n",
        "model.add(Dropout(0.2))\n",
        "model.add(Dense(512,activation='relu'))\n",
        "model.add(Dense(512,activation='relu'))\n",
        "model.add(Dense(7,activation='softmax'))\n",
        "adam = SGD(learning_rate=0.001, decay=1e-5, momentum=0.8, nesterov=True)\n",
        "model.compile(loss='categorical_crossentropy',\n",
        "              optimizer=adam,\n",
        "              metrics=['acc']) \n",
        "\n",
        "# data_train.fit(X_train)\n",
        "history = model.fit(train_images,y_train, batch_size=32,epochs=10, validation_data=(test_images,y_test))\n",
        "score= model.evaluate(test_images, y_test, batch_size=32,verbose=3)\n",
        "print(\"test accuracy\", score[1])  "
      ],
      "execution_count": 14,
      "outputs": [
        {
          "output_type": "stream",
          "text": [
            "Downloading data from https://storage.googleapis.com/tensorflow/keras-applications/vgg19/vgg19_weights_tf_dim_ordering_tf_kernels_notop.h5\n",
            "80142336/80134624 [==============================] - 1s 0us/step\n",
            "Epoch 1/10\n",
            "898/898 [==============================] - 220s 185ms/step - loss: 1.8341 - acc: 0.2375 - val_loss: 1.8096 - val_acc: 0.2559\n",
            "Epoch 2/10\n",
            "898/898 [==============================] - 162s 180ms/step - loss: 1.8136 - acc: 0.2522 - val_loss: 1.8065 - val_acc: 0.2559\n",
            "Epoch 3/10\n",
            "898/898 [==============================] - 162s 181ms/step - loss: 1.8174 - acc: 0.2473 - val_loss: 1.8063 - val_acc: 0.2559\n",
            "Epoch 4/10\n",
            "898/898 [==============================] - 162s 181ms/step - loss: 1.8171 - acc: 0.2474 - val_loss: 1.8107 - val_acc: 0.2559\n",
            "Epoch 5/10\n",
            "898/898 [==============================] - 162s 181ms/step - loss: 1.8154 - acc: 0.2510 - val_loss: 1.8085 - val_acc: 0.2559\n",
            "Epoch 6/10\n",
            "898/898 [==============================] - 162s 180ms/step - loss: 1.8173 - acc: 0.2438 - val_loss: 1.8099 - val_acc: 0.2559\n",
            "Epoch 7/10\n",
            "898/898 [==============================] - 162s 181ms/step - loss: 1.8144 - acc: 0.2518 - val_loss: 1.8081 - val_acc: 0.2559\n",
            "Epoch 8/10\n",
            "898/898 [==============================] - 162s 181ms/step - loss: 1.8168 - acc: 0.2475 - val_loss: 1.8078 - val_acc: 0.2559\n",
            "Epoch 9/10\n",
            "898/898 [==============================] - 162s 181ms/step - loss: 1.8086 - acc: 0.2530 - val_loss: 1.8099 - val_acc: 0.2559\n",
            "Epoch 10/10\n",
            "898/898 [==============================] - 162s 181ms/step - loss: 1.8117 - acc: 0.2494 - val_loss: 1.8066 - val_acc: 0.2559\n",
            "test accuracy 0.2559208571910858\n"
          ],
          "name": "stdout"
        }
      ]
    },
    {
      "cell_type": "code",
      "metadata": {
        "colab": {
          "base_uri": "https://localhost:8080/",
          "height": 334
        },
        "id": "JJ8YLahADJFH",
        "outputId": "c59a7072-4bdb-4526-d1e0-d9449ea71595"
      },
      "source": [
        "from sklearn.metrics import confusion_matrix\n",
        "results = model.predict_classes(test_images)\n",
        "cm = confusion_matrix(np.where(y_test == 1)[1], results)\n",
        "plt.figure(figsize=(30, 30))\n",
        "plt.matshow(cm)\n",
        "plt.title('Confusion Matrix')\n",
        "plt.colorbar()\n",
        "plt.ylabel('True Label')\n",
        "plt.xlabel('Predicted Label')\n",
        "plt.show()"
      ],
      "execution_count": 15,
      "outputs": [
        {
          "output_type": "stream",
          "text": [
            "/usr/local/lib/python3.7/dist-packages/keras/engine/sequential.py:450: UserWarning: `model.predict_classes()` is deprecated and will be removed after 2021-01-01. Please use instead:* `np.argmax(model.predict(x), axis=-1)`,   if your model does multi-class classification   (e.g. if it uses a `softmax` last-layer activation).* `(model.predict(x) > 0.5).astype(\"int32\")`,   if your model does binary classification   (e.g. if it uses a `sigmoid` last-layer activation).\n",
            "  warnings.warn('`model.predict_classes()` is deprecated and '\n"
          ],
          "name": "stderr"
        },
        {
          "output_type": "display_data",
          "data": {
            "text/plain": [
              "<Figure size 2160x2160 with 0 Axes>"
            ]
          },
          "metadata": {
            "tags": []
          }
        },
        {
          "output_type": "display_data",
          "data": {
            "image/png": "[encoded data removed]",
            "text/plain": [
              "<Figure size 288x288 with 2 Axes>"
            ]
          },
          "metadata": {
            "tags": [],
            "needs_background": "light"
          }
        }
      ]
    },
    {
      "cell_type": "markdown",
      "metadata": {
        "id": "5TppZq1uaHUe"
      },
      "source": [
        "##References\n",
        "1) S. (2019, November 27). Facial Expression Detection (CNN). Kaggle. https://www.kaggle.com/shawon10/facial-expression-detection-cnn\n",
        "\n",
        "2) J. (2019a, January 3). Face expression recognition with Deep Learning. Kaggle. https://www.kaggle.com/jonathanoheix face-expression-recognition-with-deep-learning\n",
        "\n",
        "3) G. (2020, April 18). Facial Emotion Recognition. Kaggle. https://www.kaggle.com/gauravsharma99/facial-emotion-recognition\n",
        "\n",
        "4) https://gist.github.com/Nabeel110/01210a28cbd8b53c13b42330abc253ad"
      ]
    }
  ]
}