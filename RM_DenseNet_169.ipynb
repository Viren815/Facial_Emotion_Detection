{
  "nbformat": 4,
  "nbformat_minor": 0,
  "metadata": {
    "colab": {
      "name": "RM-DenseNet-169.ipynb",
      "provenance": [],
      "collapsed_sections": [
        "OEJR6rqkeITU"
      ]
    },
    "kernelspec": {
      "name": "python3",
      "display_name": "Python 3"
    },
    "language_info": {
      "name": "python"
    }
  },
  "cells": [
    {
      "cell_type": "markdown",
      "metadata": {
        "id": "jAEjny-zrrBh"
      },
      "source": [
        "##Mounting Google Drive"
      ]
    },
    {
      "cell_type": "code",
      "metadata": {
        "colab": {
          "base_uri": "https://localhost:8080/"
        },
        "id": "wEK0NIjVXujV",
        "outputId": "e36dc731-85dc-48d0-fcf3-77494a8606e1"
      },
      "source": [
        "from google.colab import drive\n",
        "drive.mount('/content/drive/')"
      ],
      "execution_count": 1,
      "outputs": [
        {
          "output_type": "stream",
          "text": [
            "Drive already mounted at /content/drive/; to attempt to forcibly remount, call drive.mount(\"/content/drive/\", force_remount=True).\n"
          ],
          "name": "stdout"
        }
      ]
    },
    {
      "cell_type": "markdown",
      "metadata": {
        "id": "2KDiSM8qtalh"
      },
      "source": [
        "##Importing Libraries"
      ]
    },
    {
      "cell_type": "code",
      "metadata": {
        "id": "bkYTIM6qnmwo"
      },
      "source": [
        "import numpy as np\n",
        "import cv2\n",
        "import keras\n",
        "from keras.callbacks import ModelCheckpoint,EarlyStopping\n",
        "from keras.layers import Conv2D, Flatten, MaxPooling2D,Dense,Dropout,SpatialDropout2D\n",
        "from keras.models  import Sequential\n",
        "from keras.preprocessing.image import ImageDataGenerator, img_to_array, load_img, array_to_img\n",
        "import random,os,glob\n",
        "import matplotlib.pyplot as plt\n",
        "import tensorflow as tf\n",
        "import numpy as np\n",
        "import pandas as pd\n",
        "from keras.preprocessing.image import ImageDataGenerator\n",
        "from keras.optimizers import SGD\n",
        "from keras.models import Sequential,Model\n",
        "from keras.layers import Activation,Dense,Flatten,Dropout,MaxPooling2D,GlobalAveragePooling2D,BatchNormalization\n",
        "import shutil as sh\n",
        "import os\n",
        "from keras.applications.xception import Xception\n",
        "from PIL import Image\n",
        "from keras.preprocessing import image\n",
        "import tensorflow_datasets as tfds"
      ],
      "execution_count": 2,
      "outputs": []
    },
    {
      "cell_type": "markdown",
      "metadata": {
        "id": "x2Qg4Rcmc5oL"
      },
      "source": [
        "##Importing dataset "
      ]
    },
    {
      "cell_type": "code",
      "metadata": {
        "colab": {
          "base_uri": "https://localhost:8080/",
          "height": 359
        },
        "id": "S7UiuRWpobtF",
        "outputId": "e31a9caa-2b72-4589-cb01-7d1cb194cdb9"
      },
      "source": [
        "filname = '/content/drive/MyDrive/Research Methodology/fer2013.csv'\n",
        "names=['emotion','pixels','usage']\n",
        "df=pd.read_csv('/content/drive/MyDrive/Research Methodology/fer2013.csv',names=names, na_filter=False)\n",
        "im=df['pixels']\n",
        "df.head(10)"
      ],
      "execution_count": 3,
      "outputs": [
        {
          "output_type": "execute_result",
          "data": {
            "text/html": [
              "<div>\n",
              "<style scoped>\n",
              "    .dataframe tbody tr th:only-of-type {\n",
              "        vertical-align: middle;\n",
              "    }\n",
              "\n",
              "    .dataframe tbody tr th {\n",
              "        vertical-align: top;\n",
              "    }\n",
              "\n",
              "    .dataframe thead th {\n",
              "        text-align: right;\n",
              "    }\n",
              "</style>\n",
              "<table border=\"1\" class=\"dataframe\">\n",
              "  <thead>\n",
              "    <tr style=\"text-align: right;\">\n",
              "      <th></th>\n",
              "      <th>emotion</th>\n",
              "      <th>pixels</th>\n",
              "      <th>usage</th>\n",
              "    </tr>\n",
              "  </thead>\n",
              "  <tbody>\n",
              "    <tr>\n",
              "      <th>0</th>\n",
              "      <td>emotion</td>\n",
              "      <td>pixels</td>\n",
              "      <td>Usage</td>\n",
              "    </tr>\n",
              "    <tr>\n",
              "      <th>1</th>\n",
              "      <td>0</td>\n",
              "      <td>70 80 82 72 58 58 60 63 54 58 60 48 89 115 121...</td>\n",
              "      <td>Training</td>\n",
              "    </tr>\n",
              "    <tr>\n",
              "      <th>2</th>\n",
              "      <td>0</td>\n",
              "      <td>151 150 147 155 148 133 111 140 170 174 182 15...</td>\n",
              "      <td>Training</td>\n",
              "    </tr>\n",
              "    <tr>\n",
              "      <th>3</th>\n",
              "      <td>2</td>\n",
              "      <td>231 212 156 164 174 138 161 173 182 200 106 38...</td>\n",
              "      <td>Training</td>\n",
              "    </tr>\n",
              "    <tr>\n",
              "      <th>4</th>\n",
              "      <td>4</td>\n",
              "      <td>24 32 36 30 32 23 19 20 30 41 21 22 32 34 21 1...</td>\n",
              "      <td>Training</td>\n",
              "    </tr>\n",
              "    <tr>\n",
              "      <th>5</th>\n",
              "      <td>6</td>\n",
              "      <td>4 0 0 0 0 0 0 0 0 0 0 0 3 15 23 28 48 50 58 84...</td>\n",
              "      <td>Training</td>\n",
              "    </tr>\n",
              "    <tr>\n",
              "      <th>6</th>\n",
              "      <td>2</td>\n",
              "      <td>55 55 55 55 55 54 60 68 54 85 151 163 170 179 ...</td>\n",
              "      <td>Training</td>\n",
              "    </tr>\n",
              "    <tr>\n",
              "      <th>7</th>\n",
              "      <td>4</td>\n",
              "      <td>20 17 19 21 25 38 42 42 46 54 56 62 63 66 82 1...</td>\n",
              "      <td>Training</td>\n",
              "    </tr>\n",
              "    <tr>\n",
              "      <th>8</th>\n",
              "      <td>3</td>\n",
              "      <td>77 78 79 79 78 75 60 55 47 48 58 73 77 79 57 5...</td>\n",
              "      <td>Training</td>\n",
              "    </tr>\n",
              "    <tr>\n",
              "      <th>9</th>\n",
              "      <td>3</td>\n",
              "      <td>85 84 90 121 101 102 133 153 153 169 177 189 1...</td>\n",
              "      <td>Training</td>\n",
              "    </tr>\n",
              "  </tbody>\n",
              "</table>\n",
              "</div>"
            ],
            "text/plain": [
              "   emotion                                             pixels     usage\n",
              "0  emotion                                             pixels     Usage\n",
              "1        0  70 80 82 72 58 58 60 63 54 58 60 48 89 115 121...  Training\n",
              "2        0  151 150 147 155 148 133 111 140 170 174 182 15...  Training\n",
              "3        2  231 212 156 164 174 138 161 173 182 200 106 38...  Training\n",
              "4        4  24 32 36 30 32 23 19 20 30 41 21 22 32 34 21 1...  Training\n",
              "5        6  4 0 0 0 0 0 0 0 0 0 0 0 3 15 23 28 48 50 58 84...  Training\n",
              "6        2  55 55 55 55 55 54 60 68 54 85 151 163 170 179 ...  Training\n",
              "7        4  20 17 19 21 25 38 42 42 46 54 56 62 63 66 82 1...  Training\n",
              "8        3  77 78 79 79 78 75 60 55 47 48 58 73 77 79 57 5...  Training\n",
              "9        3  85 84 90 121 101 102 133 153 153 169 177 189 1...  Training"
            ]
          },
          "metadata": {
            "tags": []
          },
          "execution_count": 3
        }
      ]
    },
    {
      "cell_type": "markdown",
      "metadata": {
        "id": "DGg29lj4c-RX"
      },
      "source": [
        "##Dividing Data into X and Y "
      ]
    },
    {
      "cell_type": "code",
      "metadata": {
        "id": "7uLBc8Icoejm"
      },
      "source": [
        "def train_test(filname):\n",
        "    Y = []\n",
        "    X = []\n",
        "    data = True\n",
        "    for row in open(filname):\n",
        "        if data:\n",
        "            data = False\n",
        "        else:\n",
        "            train = row.split(',')\n",
        "            Y.append(int(train[0]))\n",
        "            X.append([int(p) for p in train[1].split()])\n",
        "\n",
        "    X = np.array(X) / 255.0 \n",
        "    Y = np.array(Y)\n",
        "    return X, Y\n",
        "    "
      ],
      "execution_count": 4,
      "outputs": []
    },
    {
      "cell_type": "code",
      "metadata": {
        "colab": {
          "base_uri": "https://localhost:8080/"
        },
        "id": "HWOIVbGfohcA",
        "outputId": "5666b260-00b0-444a-b4b5-aeda5f457789"
      },
      "source": [
        "X, Y = train_test(filname)\n",
        "num_class = len(set(Y))\n",
        "print(num_class)"
      ],
      "execution_count": 5,
      "outputs": [
        {
          "output_type": "stream",
          "text": [
            "7\n"
          ],
          "name": "stdout"
        }
      ]
    },
    {
      "cell_type": "markdown",
      "metadata": {
        "id": "OEJR6rqkeITU"
      },
      "source": [
        "##Dividing Data into Train and Test "
      ]
    },
    {
      "cell_type": "code",
      "metadata": {
        "id": "vhFPB9ULwVHs"
      },
      "source": [
        "from sklearn.model_selection import train_test_split\n",
        "X_train, X_test, y_train, y_test = train_test_split(X, Y, test_size=0.2, random_state=0)"
      ],
      "execution_count": 6,
      "outputs": []
    },
    {
      "cell_type": "markdown",
      "metadata": {
        "id": "gl20E-syeUF9"
      },
      "source": [
        "##Preprocessing Steps"
      ]
    },
    {
      "cell_type": "code",
      "metadata": {
        "id": "qfa2j3WsHJOp"
      },
      "source": [
        "X_train = X_train.astype('float32') / 255.\n",
        "X_test = X_test.astype('float32') / 255.\n",
        "X_train = np.reshape(X_train, (len(X_train), 48, 48, 1))\n",
        "X_test = np.reshape(X_test, (len(X_test), 48, 48, 1))"
      ],
      "execution_count": 7,
      "outputs": []
    },
    {
      "cell_type": "code",
      "metadata": {
        "colab": {
          "base_uri": "https://localhost:8080/"
        },
        "id": "zzNkgCtHVgT9",
        "outputId": "8cead5fa-bceb-4385-f588-bbd9ef23d1d8"
      },
      "source": [
        "train_images = tf.image.grayscale_to_rgb(\n",
        "    (tf.convert_to_tensor(X_train, name=None))\n",
        "    # name=None\n",
        ")\n",
        "# train_images = train_images / 255\n",
        "print(train_images.shape)"
      ],
      "execution_count": 8,
      "outputs": [
        {
          "output_type": "stream",
          "text": [
            "(28709, 48, 48, 3)\n"
          ],
          "name": "stdout"
        }
      ]
    },
    {
      "cell_type": "code",
      "metadata": {
        "id": "TYpHDtJUJ-nw"
      },
      "source": [
        "train_images = tf.image.resize(train_images, [128,128])"
      ],
      "execution_count": 9,
      "outputs": []
    },
    {
      "cell_type": "code",
      "metadata": {
        "colab": {
          "base_uri": "https://localhost:8080/"
        },
        "id": "OjlPPC5CKRQk",
        "outputId": "080666df-486c-40f2-9387-6dded88c5fef"
      },
      "source": [
        "test_images = tf.image.grayscale_to_rgb(\n",
        "    (tf.convert_to_tensor(X_test, name=None))\n",
        "    # name=None\n",
        ")\n",
        "print(test_images.shape)"
      ],
      "execution_count": 10,
      "outputs": [
        {
          "output_type": "stream",
          "text": [
            "(7178, 48, 48, 3)\n"
          ],
          "name": "stdout"
        }
      ]
    },
    {
      "cell_type": "code",
      "metadata": {
        "id": "riZVBjIiKedm"
      },
      "source": [
        "test_images = tf.image.resize(test_images, [128,128])"
      ],
      "execution_count": 11,
      "outputs": []
    },
    {
      "cell_type": "code",
      "metadata": {
        "id": "QrD_VPWOVpbk"
      },
      "source": [
        "y_train = (np.arange(num_class) == y_train[:, None]).astype(np.float32)\n",
        "y_test = (np.arange(num_class) == y_test[:, None]).astype(np.float32)"
      ],
      "execution_count": 12,
      "outputs": []
    },
    {
      "cell_type": "markdown",
      "metadata": {
        "id": "mUdjRF4Vffgp"
      },
      "source": [
        "##Loading the Pretrained Model ResNet-152 with Transfer learning ImageNet"
      ]
    },
    {
      "cell_type": "code",
      "metadata": {
        "colab": {
          "base_uri": "https://localhost:8080/"
        },
        "id": "xiTZWjQLzBkY",
        "outputId": "6791241e-4de4-4579-dcd2-d1fae2b3e9cb"
      },
      "source": [
        "model = Sequential()\n",
        "resnet152model = tf.keras.applications.DenseNet169(include_top=False, weights='imagenet', input_shape=(128, 128, 3))\n",
        "model.add(resnet152model)\n",
        "model.add(Flatten())\n",
        "model.add(Dropout(0.2))\n",
        "model.add(Dense(512,activation='relu'))\n",
        "model.add(Dense(512,activation='relu'))\n",
        "model.add(Dense(7,activation='softmax'))\n",
        "adam = SGD(learning_rate=0.001, decay=1e-5, momentum=0.8, nesterov=True)\n",
        "model.compile(loss='categorical_crossentropy',\n",
        "              optimizer=adam,\n",
        "              metrics=['acc']) \n",
        "\n",
        "# data_train.fit(X_train)\n",
        "history = model.fit(train_images,y_train, batch_size=32,epochs=10, validation_data=(test_images,y_test))\n",
        "score= model.evaluate(test_images, y_test, batch_size=32,verbose=3)\n",
        "print(\"test accuracy\", score[1])  "
      ],
      "execution_count": 13,
      "outputs": [
        {
          "output_type": "stream",
          "text": [
            "Epoch 1/10\n",
            "898/898 [==============================] - 230s 183ms/step - loss: 1.5471 - acc: 0.4059 - val_loss: 1.5044 - val_acc: 0.4284\n",
            "Epoch 2/10\n",
            "898/898 [==============================] - 160s 178ms/step - loss: 0.9842 - acc: 0.6297 - val_loss: 1.2132 - val_acc: 0.5411\n",
            "Epoch 3/10\n",
            "898/898 [==============================] - 170s 189ms/step - loss: 0.7889 - acc: 0.7068 - val_loss: 1.0203 - val_acc: 0.6317\n",
            "Epoch 4/10\n",
            "898/898 [==============================] - 170s 189ms/step - loss: 0.5826 - acc: 0.7845 - val_loss: 1.0797 - val_acc: 0.6326\n",
            "Epoch 5/10\n",
            "898/898 [==============================] - 170s 189ms/step - loss: 0.4183 - acc: 0.8505 - val_loss: 1.1620 - val_acc: 0.6369\n",
            "Epoch 6/10\n",
            "898/898 [==============================] - 170s 189ms/step - loss: 0.3108 - acc: 0.8920 - val_loss: 1.1686 - val_acc: 0.6421\n",
            "Epoch 7/10\n",
            "898/898 [==============================] - 160s 178ms/step - loss: 0.2290 - acc: 0.9215 - val_loss: 1.3221 - val_acc: 0.6482\n",
            "Epoch 8/10\n",
            "898/898 [==============================] - 169s 188ms/step - loss: 0.1710 - acc: 0.9407 - val_loss: 1.4766 - val_acc: 0.6360\n",
            "Epoch 9/10\n",
            "898/898 [==============================] - 160s 178ms/step - loss: 0.1441 - acc: 0.9530 - val_loss: 1.4939 - val_acc: 0.6436\n",
            "Epoch 10/10\n",
            "898/898 [==============================] - 169s 189ms/step - loss: 0.1446 - acc: 0.9501 - val_loss: 1.5391 - val_acc: 0.6583\n",
            "test accuracy 0.6582613587379456\n"
          ],
          "name": "stdout"
        }
      ]
    },
    {
      "cell_type": "code",
      "metadata": {
        "colab": {
          "base_uri": "https://localhost:8080/",
          "height": 334
        },
        "id": "JJ8YLahADJFH",
        "outputId": "8253f199-2dad-4987-e9a6-b0166881eb7a"
      },
      "source": [
        "from sklearn.metrics import confusion_matrix\n",
        "results = model.predict_classes(test_images)\n",
        "cm = confusion_matrix(np.where(y_test == 1)[1], results)\n",
        "plt.figure(figsize=(30, 30))\n",
        "plt.matshow(cm)\n",
        "plt.title('Confusion Matrix')\n",
        "plt.colorbar()\n",
        "plt.ylabel('True Label')\n",
        "plt.xlabel('Predicted Label')\n",
        "plt.show()"
      ],
      "execution_count": 14,
      "outputs": [
        {
          "output_type": "stream",
          "text": [
            "/usr/local/lib/python3.7/dist-packages/keras/engine/sequential.py:450: UserWarning: `model.predict_classes()` is deprecated and will be removed after 2021-01-01. Please use instead:* `np.argmax(model.predict(x), axis=-1)`,   if your model does multi-class classification   (e.g. if it uses a `softmax` last-layer activation).* `(model.predict(x) > 0.5).astype(\"int32\")`,   if your model does binary classification   (e.g. if it uses a `sigmoid` last-layer activation).\n",
            "  warnings.warn('`model.predict_classes()` is deprecated and '\n"
          ],
          "name": "stderr"
        },
        {
          "output_type": "display_data",
          "data": {
            "text/plain": [
              "<Figure size 2160x2160 with 0 Axes>"
            ]
          },
          "metadata": {
            "tags": []
          }
        },
        {
          "output_type": "display_data",
          "data": {
            "image/png": "[encoded data removed]",
            "text/plain": [
              "<Figure size 288x288 with 2 Axes>"
            ]
          },
          "metadata": {
            "tags": [],
            "needs_background": "light"
          }
        }
      ]
    },
    {
      "cell_type": "markdown",
      "metadata": {
        "id": "OaHdufmnaEkX"
      },
      "source": [
        "##References\n",
        "1) S. (2019, November 27). Facial Expression Detection (CNN). Kaggle. https://www.kaggle.com/shawon10/facial-expression-detection-cnn\n",
        "\n",
        "2) J. (2019a, January 3). Face expression recognition with Deep Learning. Kaggle. https://www.kaggle.com/jonathanoheix face-expression-recognition-with-deep-learning\n",
        "\n",
        "3) G. (2020, April 18). Facial Emotion Recognition. Kaggle. https://www.kaggle.com/gauravsharma99/facial-emotion-recognition\n",
        "\n",
        "4) https://gist.github.com/Nabeel110/01210a28cbd8b53c13b42330abc253ad"
      ]
    }
  ]
}